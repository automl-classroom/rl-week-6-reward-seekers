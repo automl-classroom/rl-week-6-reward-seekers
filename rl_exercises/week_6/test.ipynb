{
 "cells": [
  {
   "cell_type": "code",
   "execution_count": 5,
   "id": "90a35935",
   "metadata": {},
   "outputs": [
    {
     "name": "stdout",
     "output_type": "stream",
     "text": [
      "Before:\n",
      "x: tensor([1., 2., 3.])\n",
      "x.shape: torch.Size([3])\n",
      "x.dim(): 1\n",
      "\n",
      "After:\n",
      "x: tensor([[1., 2., 3.]])\n",
      "x.shape: torch.Size([1, 3])\n",
      "x.dim(): 2\n"
     ]
    }
   ],
   "source": [
    "import torch\n",
    "\n",
    "x = torch.tensor([1.0, 2.0, 3.0])  # 1D tensor with shape (3,)\n",
    "\n",
    "print(\"Before:\")\n",
    "print(\"x:\", x)\n",
    "print(\"x.shape:\", x.shape)\n",
    "print(\"x.dim():\", x.dim())\n",
    "\n",
    "if x.dim() == 1:\n",
    "    x = x.unsqueeze(0)  # Adds a dimension at position 0\n",
    "\n",
    "print(\"\\nAfter:\")\n",
    "print(\"x:\", x)\n",
    "print(\"x.shape:\", x.shape)\n",
    "print(\"x.dim():\", x.dim())"
   ]
  },
  {
   "cell_type": "code",
   "execution_count": 8,
   "id": "f1d16e20",
   "metadata": {},
   "outputs": [
    {
     "name": "stdout",
     "output_type": "stream",
     "text": [
      "Before view:\n",
      "x.shape: torch.Size([2, 3, 4, 4])\n",
      "x.dim(): 4\n",
      "\n",
      "After view:\n",
      "x.shape: torch.Size([2, 48])\n",
      "x.dim(): 2\n"
     ]
    }
   ],
   "source": [
    "import torch\n",
    "\n",
    "# Let's simulate a batch of images with shape (2, 3, 4, 4)\n",
    "# 2 samples, 3 channels, 4x4 image\n",
    "x = torch.randn(2, 3, 4, 4)\n",
    "\n",
    "print(\"Before view:\")\n",
    "print(\"x.shape:\", x.shape)\n",
    "print(\"x.dim():\", x.dim())\n",
    "\n",
    "# Flatten all dimensions except the first (batch) dimension\n",
    "x = x.view(x.size(0), -1)\n",
    "\n",
    "print(\"\\nAfter view:\")\n",
    "print(\"x.shape:\", x.shape)\n",
    "print(\"x.dim():\", x.dim())"
   ]
  },
  {
   "cell_type": "code",
   "execution_count": null,
   "id": "eacea3d8",
   "metadata": {},
   "outputs": [],
   "source": []
  }
 ],
 "metadata": {
  "kernelspec": {
   "display_name": "Python 3",
   "language": "python",
   "name": "python3"
  },
  "language_info": {
   "codemirror_mode": {
    "name": "ipython",
    "version": 3
   },
   "file_extension": ".py",
   "mimetype": "text/x-python",
   "name": "python",
   "nbconvert_exporter": "python",
   "pygments_lexer": "ipython3",
   "version": "3.10.11"
  }
 },
 "nbformat": 4,
 "nbformat_minor": 5
}
